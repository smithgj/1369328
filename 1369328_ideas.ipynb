{
 "cells": [
  {
   "cell_type": "code",
   "execution_count": 68,
   "metadata": {
    "scrolled": true
   },
   "outputs": [
    {
     "name": "stdout",
     "output_type": "stream",
     "text": [
      "['webdriver_loc=C:\\\\Users\\\\Greg\\\\PycharmProjects\\\\1369328\\\\chromedriver_win32\\\\chromedriver.exe', 'out_file=C:\\\\Users\\\\Greg\\\\PycharmProjects\\\\1369328\\\\output.csv', 'page_timeout=20', 'Full_Name=gpops,frank, teddy', 'Email=smithgj66@hotmail.com,junkemail', 'Street=123 Main Street', 'City=St. Paul', 'Zip=55125,a1234,55108,1234567', 'Maiden_Last_Name=', 'Phone_Number=612-555-1212,1234561212,a12-234-1234', 'Social_Security_Number=123-45-6789', 'Approximate_Age=35', 'State=MN', 'Date_of_Birth=01/17/1959']\n",
      "14\n"
     ]
    }
   ],
   "source": [
    "    inputs= []\n",
    "    with open('C:\\\\Users\\\\Greg\\\\PycharmProjects\\\\1369328\\\\input.txt') as f:\n",
    "        input_data = f.readlines()\n",
    "        # remove whitespace characters like `\\n` at the end of each line\n",
    "        input_data = [x.strip() for x in input_data]\n",
    "    input_no_blank_lines =[]\n",
    "    for x in input_data:\n",
    "        if x != '':\n",
    "            input_no_blank_lines.append(x)\n",
    "    clean_input_data =[]\n",
    "    for x in input_no_blank_lines:\n",
    "        if x[0:1] != '#':\n",
    "            clean_input_data.append(x)\n",
    "\n",
    "    print(clean_input_data)\n",
    "    print (len(clean_input_data))          "
   ]
  },
  {
   "cell_type": "code",
   "execution_count": 65,
   "metadata": {},
   "outputs": [
    {
     "name": "stdout",
     "output_type": "stream",
     "text": [
      "['C:\\\\Users\\\\Greg\\\\PycharmProjects\\\\1369328\\\\chromedriver_win32\\\\chromedriver.exe', 'C:\\\\Users\\\\Greg\\\\PycharmProjects\\\\1369328\\\\output.csv', '20', ['gpops', 'frank', 'teddy'], ['smithgj66@hotmail.com', 'junkemail'], ['123 Main Street'], ['St. Paul'], ['55125', 'a1234', '55108', '1234567', ''], [''], ['612-555-1212', '1234561212', 'a12-234-1234'], ['123-45-6789'], ['35'], ['MN'], ['01/17/1959']]\n"
     ]
    }
   ],
   "source": [
    "\n",
    "webdriver = (clean_input_data[0][clean_input_data[0].find('=') + 1:]).split(',')\n",
    "webdriver = webdriver[0].strip()\n",
    "inputs.append(webdriver)\n",
    "\n",
    "out_file = (clean_input_data[1][clean_input_data[1].find('=') + 1:]).split(',')\n",
    "out_file = out_file[0].strip()\n",
    "inputs.append(out_file)\n",
    "\n",
    "page_timeout = (clean_input_data[2][clean_input_data[2].find('=') + 1:]).split(',')\n",
    "page_timeout = page_timeout[0].strip()\n",
    "inputs.append(page_timeout)\n",
    "\n",
    "full_name = (clean_input_data[3][clean_input_data[3].find('=') + 1:]).split(',')\n",
    "full_name = [x.strip() for x in full_name]\n",
    "inputs.append(full_name)\n",
    "\n",
    "email = (clean_input_data[4][clean_input_data[4].find('=') + 1:]).split(',')\n",
    "email = [x.strip() for x in email]\n",
    "inputs.append(email)\n",
    "\n",
    "street = (clean_input_data[5][clean_input_data[5].find('=') + 1:]).split(',')\n",
    "street = [x.strip() for x in street]\n",
    "inputs.append(street)\n",
    "\n",
    "city = (clean_input_data[6][clean_input_data[6].find('=') + 1:]).split(',')\n",
    "city = [x.strip() for x in city]\n",
    "inputs.append(city)\n",
    "\n",
    "zip_code = (clean_input_data[7][clean_input_data[7].find('=') + 1:]).split(',')\n",
    "zip_code = [x.strip() for x in zip_code]\n",
    "inputs.append(zip_code)\n",
    "\n",
    "maiden_name = (clean_input_data[8][clean_input_data[8].find('=') + 1:]).split(',')\n",
    "maiden_name = [x.strip() for x in maiden_name]\n",
    "inputs.append(maiden_name)\n",
    "\n",
    "phone = (clean_input_data[9][clean_input_data[9].find('=') + 1:]).split(',')\n",
    "phone = [x.strip() for x in phone]\n",
    "inputs.append(phone)\n",
    "\n",
    "ssn = (clean_input_data[10][clean_input_data[10].find('=') + 1:]).split(',')\n",
    "ssn = [x.strip() for x in ssn]\n",
    "inputs.append(ssn)\n",
    "\n",
    "age = (clean_input_data[11][clean_input_data[11].find('=') + 1:]).split(',')\n",
    "age = [x.strip() for x in age]\n",
    "inputs.append(age)\n",
    "\n",
    "state = (clean_input_data[12][clean_input_data[12].find('=') + 1:]).split(',')\n",
    "state = [x.strip() for x in state]\n",
    "inputs.append(state)\n",
    "\n",
    "dob = (clean_input_data[13][clean_input_data[13].find('=') + 1:]).split(',')\n",
    "dob = [x.strip() for x in dob]\n",
    "inputs.append(dob)\n",
    "\n",
    "print (inputs)"
   ]
  },
  {
   "cell_type": "code",
   "execution_count": 67,
   "metadata": {},
   "outputs": [
    {
     "name": "stdout",
     "output_type": "stream",
     "text": [
      "['55125', '55108']\n",
      "['55125', '55108']\n",
      "['55125', '55108']\n",
      "['55125', '55108']\n",
      "['612-555-1212']\n"
     ]
    }
   ],
   "source": [
    "# validate_data(inputs)\n",
    "# data validation on email, zip, phone number, ssn, age, state, dob\n",
    "# if data is bad, log it, output message to console, and skip that value\n",
    "# ssn is inputs[10]\n",
    "# age is inputs[11]\n",
    "# state is inputs[12]\n",
    "# dob is inputs[13]\n",
    "\n",
    "# email is inputs[4]\n",
    "remove_me=[]\n",
    "for i in range (0, len(inputs[4])):\n",
    "    if '@' not in inputs[4][i]:\n",
    "        remove_me.append(inputs[4][i])\n",
    "        print('Invalid email address: ' + inputs[4][i])\n",
    "for j in range (0, len(remove_me)):\n",
    "    inputs[4].remove(remove_me[j])\n",
    "    \n",
    "# zip_code is inputs[7]\n",
    "remove_me = []    \n",
    "print (inputs[7])\n",
    "for i in range (0, len(inputs[7])):\n",
    "    if (len(inputs[7][i]) != 5):\n",
    "        remove_me.append(inputs[7][i])\n",
    "\n",
    "for k in range (0, len(remove_me)):\n",
    "    print('Invalid zip code: ' + remove_me[k])\n",
    "    inputs[7].remove(remove_me[k])     \n",
    "print (inputs[7])\n",
    "remove_me = []\n",
    "for i in range (0, len(inputs[7])):       \n",
    "    for j in range(0, len(inputs[7][i])):\n",
    "        if not(inputs[7][i][j].isdigit()):\n",
    "            remove_me.append(inputs[7][i])\n",
    "print (inputs[7])        \n",
    "for k in range (0, len(remove_me)):\n",
    "    print('Invalid zip code: ' + remove_me[k])\n",
    "    inputs[7].remove(remove_me[k])  \n",
    "print (inputs[7])\n",
    "\n",
    "# phone is inputs[9]\n",
    "remove_me=[]\n",
    "phone_bool = True\n",
    "for i in range (0, len(inputs[9])):\n",
    "    if (len(inputs[9][i]) != 12):\n",
    "        remove_me.append(inputs[9][i])\n",
    "\n",
    "for k in range (0, len(remove_me)):\n",
    "    print('Invalid phone: ' + remove_me[k])\n",
    "    inputs[9].remove(remove_me[k]) \n",
    "    \n",
    "remove_me = []\n",
    "for i in range (0, len(inputs[9])):       \n",
    "    for j in range(0, len(inputs[9][i])):\n",
    "        if j in (0,1,2,4,5,6,8,9,10,11):\n",
    "            if not(inputs[9][i][j].isdigit()):\n",
    "                phone_bool = False\n",
    "                break\n",
    "        if j in (3,7):\n",
    "            if inputs[9][i][j] != '-':\n",
    "                phone_bool = False\n",
    "                break\n",
    "    if phone_bool == False:\n",
    "        remove_me.append(inputs[9][i])\n",
    "        print('Invalid phone: ' + inputs[9][i])\n",
    "for k in range (0, len(remove_me)):\n",
    "    inputs[9].remove(remove_me[k])  \n",
    "print (inputs[9])"
   ]
  },
  {
   "cell_type": "code",
   "execution_count": 11,
   "metadata": {},
   "outputs": [
    {
     "name": "stdout",
     "output_type": "stream",
     "text": [
      "['greg,albany,612-555-1212,,',\n",
      " 'greg,albany,612-321-1852,,',\n",
      " 'greg,st. paul,612-555-1212,,',\n",
      " 'greg,st. paul,612-321-1852,,',\n",
      " 'greg,fresno,612-555-1212,,',\n",
      " 'greg,fresno,612-321-1852,,',\n",
      " 'mary,albany,612-555-1212,,',\n",
      " 'mary,albany,612-321-1852,,',\n",
      " 'mary,st. paul,612-555-1212,,',\n",
      " 'mary,st. paul,612-321-1852,,',\n",
      " 'mary,fresno,612-555-1212,,',\n",
      " 'mary,fresno,612-321-1852,,',\n",
      " 'nick,albany,612-555-1212,,',\n",
      " 'nick,albany,612-321-1852,,',\n",
      " 'nick,st. paul,612-555-1212,,',\n",
      " 'nick,st. paul,612-321-1852,,',\n",
      " 'nick,fresno,612-555-1212,,',\n",
      " 'nick,fresno,612-321-1852,,']\n"
     ]
    }
   ],
   "source": [
    "import itertools\n",
    "from pprint import pprint\n",
    "a=['greg','mary','nick']\n",
    "b=['albany', 'st. paul','fresno']\n",
    "c=['612-555-1212','612-321-1852']\n",
    "d=['']\n",
    "e=['']\n",
    "scenarios = [','.join(str(y) for y in x) for x in itertools.product(a, b, c, d, e)]\n",
    "pprint(scenarios)"
   ]
  },
  {
   "cell_type": "code",
   "execution_count": null,
   "metadata": {},
   "outputs": [],
   "source": []
  }
 ],
 "metadata": {
  "kernelspec": {
   "display_name": "Python 3",
   "language": "python",
   "name": "python3"
  },
  "language_info": {
   "codemirror_mode": {
    "name": "ipython",
    "version": 3
   },
   "file_extension": ".py",
   "mimetype": "text/x-python",
   "name": "python",
   "nbconvert_exporter": "python",
   "pygments_lexer": "ipython3",
   "version": "3.6.2rc2"
  }
 },
 "nbformat": 4,
 "nbformat_minor": 1
}
