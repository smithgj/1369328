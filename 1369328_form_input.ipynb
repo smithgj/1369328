{
 "cells": [
  {
   "cell_type": "code",
   "execution_count": 1,
   "metadata": {},
   "outputs": [],
   "source": [
    "import time\n",
    "from selenium import webdriver\n",
    "from selenium.webdriver.support.ui import WebDriverWait\n",
    "from selenium.webdriver.support import expected_conditions as EC\n",
    "from selenium.webdriver.common.by import By\n",
    "from selenium.webdriver.common.keys import Keys\n",
    "from selenium.common.exceptions import NoSuchElementException\n",
    "from bs4 import BeautifulSoup\n",
    "\n",
    "driver = webdriver.Chrome(\"chromedriver.exe\")\n",
    "\n",
    "driver.get('http://www.findpeoplesearch.com/')\n",
    " # click Expand Form button\n",
    "# the [0] is there because find_elements_by_id returns a list\n",
    "expand_form_button = driver.find_elements_by_id(\"more-btn\")[0]\n",
    "expand_form_button.click()"
   ]
  },
  {
   "cell_type": "code",
   "execution_count": 2,
   "metadata": {},
   "outputs": [],
   "source": [
    "# <input type=\"text\" name=\"full_name\" id=\"full_name\"\n",
    "driver.wait = WebDriverWait(driver, 10)\n",
    "full_name_tbox = driver.wait.until(EC.presence_of_element_located((By.NAME, \"full_name\")))\n",
    "#full_name_tbox.send_keys('Aaron Judge')"
   ]
  },
  {
   "cell_type": "code",
   "execution_count": 3,
   "metadata": {},
   "outputs": [],
   "source": [
    "#todo create routine to read input values for one \"scenario\" and fill in the form"
   ]
  },
  {
   "cell_type": "code",
   "execution_count": 4,
   "metadata": {},
   "outputs": [
    {
     "name": "stdout",
     "output_type": "stream",
     "text": [
      "Elapsed time = 8.932043552398682\n"
     ]
    }
   ],
   "source": [
    "#<button type=\"submit\" class=\"btn btn-success btn-lg\" id=\"button-search\" style=\"width: 75%\">Search</button>\n",
    "search_button = driver.find_element_by_id(\"button-search\")\n",
    "search_button.send_keys(Keys.ENTER)\n",
    "# wait for  <div class=\"alert alert-info col-md-8\"><h4>Search Results for...</h4>\n",
    "start_time = time.time()\n",
    "driver.wait = WebDriverWait(driver, 20)\n",
    "page_loaded = driver.wait.until(EC.presence_of_element_located((By.ID, \"new-search2\")))\n",
    "end_time = time.time()\n",
    "print('Elapsed time = '+ str(end_time - start_time))"
   ]
  },
  {
   "cell_type": "code",
   "execution_count": null,
   "metadata": {},
   "outputs": [],
   "source": []
  }
 ],
 "metadata": {
  "kernelspec": {
   "display_name": "Python 3",
   "language": "python",
   "name": "python3"
  },
  "language_info": {
   "codemirror_mode": {
    "name": "ipython",
    "version": 3
   },
   "file_extension": ".py",
   "mimetype": "text/x-python",
   "name": "python",
   "nbconvert_exporter": "python",
   "pygments_lexer": "ipython3",
   "version": "3.6.2rc2"
  }
 },
 "nbformat": 4,
 "nbformat_minor": 2
}
