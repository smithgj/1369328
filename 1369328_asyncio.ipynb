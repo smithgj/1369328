{
 "cells": [
  {
   "cell_type": "code",
   "execution_count": null,
   "metadata": {},
   "outputs": [],
   "source": [
    "import time\n",
    "import asyncio\n",
    "import arrow\n",
    "import logging\n",
    "import sys\n",
    "\n",
    "FORMAT='%(asctime)s - %(levelname)s - %(message)s'\n",
    "FILENAME =  'C:\\\\Users\\\\Greg\\\\PycharmProjects\\\\1369328\\\\asyncio_test'+ arrow.now().format('MM_DD_YYYY') + '.log'\n",
    "log_level = 'INFO'\n",
    "logging.basicConfig(format=FORMAT, filename=FILENAME, level='INFO')\n",
    "logging.info(\"beginning the program\")\n",
    "print(\"beginning the program\")\n",
    "#sys.exit()\n",
    "\n",
    "\n",
    "async def do_some_work(x):\n",
    "    print(\"Waiting \" + str(x))\n",
    "    logging.info(\"Waiting \" + str(x))\n",
    "    #await asyncio.sleep(x)\n",
    "    time.sleep(x)\n",
    "    print(\"done \" + str(x))\n",
    "    logging.info(\"done \" + str(x))\n"
   ]
  },
  {
   "cell_type": "code",
   "execution_count": null,
   "metadata": {},
   "outputs": [],
   "source": [
    "loop = asyncio.get_event_loop()\n",
    "\n",
    "start = time.time()\n",
    "loop.run_until_complete(do_some_work(12))\n",
    "end = time.time()\n",
    "\n",
    "print (str(end - start))\n",
    "\n",
    "tasks = [asyncio.ensure_future(do_some_work(7)), \n",
    "         asyncio.ensure_future(do_some_work(3))]\n",
    "\n",
    "start = time.time()\n",
    "loop.run_until_complete(asyncio.gather(*tasks))\n",
    "end = time.time()\n",
    "\n",
    "print (str(end - start))"
   ]
  },
  {
   "cell_type": "code",
   "execution_count": null,
   "metadata": {
    "scrolled": true
   },
   "outputs": [],
   "source": [
    "import time\n",
    "from threading import Thread\n",
    "import threading\n",
    "from pprint import pprint\n",
    "\n",
    "data = [None,None,None,None,None,None,None,None,None,None]\n",
    "\n",
    "def myfunc(i, ii):\n",
    "    if i==5:\n",
    "        s=25\n",
    "    else:\n",
    "        s=i\n",
    "    print (\"sleeping \" + str(s) + \" sec from thread %d\" % i)\n",
    "    time.sleep(s)\n",
    "    print (\"finished sleeping from thread %d\" % i)\n",
    "    data[i] = [i+i, i*i]\n",
    "\n",
    "\n",
    "for i in range(10):\n",
    "    ii = 0\n",
    "    my_name = 'thread_' + str(i)\n",
    "    t = Thread(target=myfunc, args=(i,ii,), name=my_name, daemon=True)\n",
    "    t.start()\n",
    "\n",
    "while None in data :\n",
    "    time.sleep(1)\n",
    "\n",
    "pprint(data)"
   ]
  },
  {
   "cell_type": "code",
   "execution_count": null,
   "metadata": {},
   "outputs": [],
   "source": []
  }
 ],
 "metadata": {
  "kernelspec": {
   "display_name": "Python 3",
   "language": "python",
   "name": "python3"
  },
  "language_info": {
   "codemirror_mode": {
    "name": "ipython",
    "version": 3
   },
   "file_extension": ".py",
   "mimetype": "text/x-python",
   "name": "python",
   "nbconvert_exporter": "python",
   "pygments_lexer": "ipython3",
   "version": "3.6.2rc2"
  }
 },
 "nbformat": 4,
 "nbformat_minor": 2
}
