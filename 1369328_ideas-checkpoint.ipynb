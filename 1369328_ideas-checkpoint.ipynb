{
 "cells": [
  {
   "cell_type": "code",
   "execution_count": 144,
   "metadata": {
    "scrolled": true
   },
   "outputs": [],
   "source": [
    "    with open('C:\\\\Users\\\\Greg\\\\PycharmProjects\\\\1369328\\\\input.txt') as f:\n",
    "        input_data = f.readlines()\n",
    "        # remove whitespace characters like `\\n` at the end of each line\n",
    "        input_data = [x.strip() for x in input_data]\n",
    "\n",
    "              "
   ]
  },
  {
   "cell_type": "code",
   "execution_count": 145,
   "metadata": {},
   "outputs": [],
   "source": [
    "input_no_blank_lines =[]\n",
    "for x in input_data:\n",
    "    if x != '':\n",
    "        input_no_blank_lines.append(x)\n",
    "        "
   ]
  },
  {
   "cell_type": "code",
   "execution_count": 146,
   "metadata": {},
   "outputs": [
    {
     "name": "stdout",
     "output_type": "stream",
     "text": [
      "['Full_Name:gpops,frank, teddy', 'Email:smithgj66@hotmail.com', 'Street:123 Main Street', 'City:St. Paul', 'Zip:55125,55108', 'Maiden_Last_Name:', 'Phone_Number:612-555-1212', 'Social_Security_Number:123-45-6789', 'Approximate_Age:35', 'State:MN', 'Date_of_Birth:01/17/1959']\n"
     ]
    }
   ],
   "source": [
    "clean_input_data =[]\n",
    "for x in input_no_blank_lines:\n",
    "    if x[0:1] != '#':\n",
    "        clean_input_data.append(x)\n",
    "\n",
    "print(clean_input_data)\n",
    "    "
   ]
  },
  {
   "cell_type": "code",
   "execution_count": 148,
   "metadata": {},
   "outputs": [
    {
     "name": "stdout",
     "output_type": "stream",
     "text": [
      "['gpops', 'frank', 'teddy']\n",
      "['']\n"
     ]
    }
   ],
   "source": [
    "\n",
    "full_name = (clean_input_data[0][clean_input_data[0].find(':') + 1:]).split(',')\n",
    "full_name = [x.strip() for x in full_name]\n",
    "print(full_name)\n",
    "\n",
    "maiden_name = (clean_input_data[5][clean_input_data[5].find(':') + 1:]).split(',')\n",
    "maiden_name = [x.strip() for x in maiden_name]\n",
    "print(maiden_name)\n",
    "        \n",
    "# continue for all data fields        "
   ]
  },
  {
   "cell_type": "code",
   "execution_count": 147,
   "metadata": {},
   "outputs": [],
   "source": [
    "# data validation on email, zip, phone number, ssn, age, state, dob\n",
    "# if data is bad, log it, output message to console, and skip that value"
   ]
  },
  {
   "cell_type": "code",
   "execution_count": 151,
   "metadata": {},
   "outputs": [
    {
     "name": "stdout",
     "output_type": "stream",
     "text": [
      "['greg,albany,612-555-1212,,',\n",
      " 'greg,albany,612-321-1852,,',\n",
      " 'greg,st. paul,612-555-1212,,',\n",
      " 'greg,st. paul,612-321-1852,,',\n",
      " 'greg,fresno,612-555-1212,,',\n",
      " 'greg,fresno,612-321-1852,,',\n",
      " 'mary,albany,612-555-1212,,',\n",
      " 'mary,albany,612-321-1852,,',\n",
      " 'mary,st. paul,612-555-1212,,',\n",
      " 'mary,st. paul,612-321-1852,,',\n",
      " 'mary,fresno,612-555-1212,,',\n",
      " 'mary,fresno,612-321-1852,,',\n",
      " 'nick,albany,612-555-1212,,',\n",
      " 'nick,albany,612-321-1852,,',\n",
      " 'nick,st. paul,612-555-1212,,',\n",
      " 'nick,st. paul,612-321-1852,,',\n",
      " 'nick,fresno,612-555-1212,,',\n",
      " 'nick,fresno,612-321-1852,,']\n"
     ]
    }
   ],
   "source": [
    "import itertools\n",
    "from pprint import pprint\n",
    "a=['greg','mary','nick']\n",
    "b=['albany', 'st. paul','fresno']\n",
    "c=['612-555-1212','612-321-1852']\n",
    "d=['']\n",
    "e=['']\n",
    "scenarios = [','.join(str(y) for y in x) for x in itertools.product(a, b, c, d, e)]\n",
    "pprint(scenarios)"
   ]
  },
  {
   "cell_type": "code",
   "execution_count": null,
   "metadata": {},
   "outputs": [],
   "source": []
  }
 ],
 "metadata": {
  "kernelspec": {
   "display_name": "Python 3",
   "language": "python",
   "name": "python3"
  },
  "language_info": {
   "codemirror_mode": {
    "name": "ipython",
    "version": 3
   },
   "file_extension": ".py",
   "mimetype": "text/x-python",
   "name": "python",
   "nbconvert_exporter": "python",
   "pygments_lexer": "ipython3",
   "version": "3.6.2rc2"
  }
 },
 "nbformat": 4,
 "nbformat_minor": 1
}
