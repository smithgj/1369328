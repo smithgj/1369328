{
 "cells": [
  {
   "cell_type": "code",
   "execution_count": 1,
   "metadata": {},
   "outputs": [],
   "source": [
    "import sqlite3\n",
    "# get db filename from input.txt\n",
    "# if file exists then skip creating the person table\n",
    "# need to code this\n",
    "conn = sqlite3.connect('example.db')\n",
    "c = conn.cursor()\n",
    "c.execute('''\n",
    "          CREATE TABLE person\n",
    "          (id INTEGER PRIMARY KEY ASC, full_name varchar(250),\n",
    "          email varchar(150), street varchar(150), city varchar(150),\n",
    "          zip varchar(10), maiden_last_name varchar(150), phone int(10),\n",
    "          ssn int(9), age int(3), state varchar(2), dob timestamp)\n",
    "          ''')\n",
    "conn.commit()\n",
    "conn.close()"
   ]
  },
  {
   "cell_type": "code",
   "execution_count": 8,
   "metadata": {},
   "outputs": [],
   "source": [
    "# insert data that results from screenscraping\n",
    "conn = sqlite3.connect('example.db')\n",
    "c = conn.cursor()\n",
    "c.execute('''\n",
    "            INSERT INTO person (full_name, email, street, city, zip, maiden_last_name, phone,ssn, age, state, dob)\n",
    "            VALUES ('Aaron Judge', 'ajudge@hotmail.com', '99 Yankee Way', 'New York', '12301','', 2125551212, 999999999, 25, 'MN', '1992-04-01')\n",
    "            ''')\n",
    "conn.commit()\n",
    "conn.close()\n"
   ]
  },
  {
   "cell_type": "code",
   "execution_count": 9,
   "metadata": {},
   "outputs": [
    {
     "name": "stdout",
     "output_type": "stream",
     "text": [
      "[(1, 'Greg Smith', 'smithgj66@hotmail.com', '123 Main Street', 'St. Paul', '55108', '', 6125551212, 123456789, 50, 'MN', 1944), (2, 'Greg Smith', 'smithgj66@hotmail.com', '123 Main Street', 'St. Paul', '55108', '', 6125551212, 123456789, 50, 'MN', '1965-01-20'), (3, 'Aaron Judge', 'ajudge@hotmail.com', '99 Yankee Way', 'New York', '12301', '', 2125551212, 999999999, 25, 'MN', '1992-04-01')]\n"
     ]
    }
   ],
   "source": [
    "# read data\n",
    "conn = sqlite3.connect('example.db')\n",
    "c = conn.cursor()\n",
    "c.execute('''\n",
    "            select * from person\n",
    "            ''')\n",
    "print (c.fetchall())\n",
    "conn.close()"
   ]
  },
  {
   "cell_type": "code",
   "execution_count": null,
   "metadata": {},
   "outputs": [],
   "source": []
  }
 ],
 "metadata": {
  "kernelspec": {
   "display_name": "Python 3",
   "language": "python",
   "name": "python3"
  },
  "language_info": {
   "codemirror_mode": {
    "name": "ipython",
    "version": 3
   },
   "file_extension": ".py",
   "mimetype": "text/x-python",
   "name": "python",
   "nbconvert_exporter": "python",
   "pygments_lexer": "ipython3",
   "version": "3.6.2rc2"
  }
 },
 "nbformat": 4,
 "nbformat_minor": 2
}
