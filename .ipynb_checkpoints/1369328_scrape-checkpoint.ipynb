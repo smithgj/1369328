{
 "cells": [
  {
   "cell_type": "code",
   "execution_count": 1,
   "metadata": {},
   "outputs": [],
   "source": [
    "import time\n",
    "from selenium import webdriver\n",
    "from selenium.webdriver.support.ui import WebDriverWait\n",
    "from selenium.webdriver.support import expected_conditions as EC\n",
    "from selenium.webdriver.common.by import By\n",
    "from selenium.webdriver.common.keys import Keys\n",
    "from bs4 import BeautifulSoup\n",
    "\n",
    "driver = webdriver.Chrome(\"C:/Users/Greg/PycharmProjects/1369328/chromedriver_win32/chromedriver.exe\")\n",
    "driver.wait = WebDriverWait(driver, 5)\n",
    "driver.get('http://www.findpeoplesearch.com/')\n",
    " # click Expand Form button\n",
    "# the [0] is there because find_elements_by_id returns a list\n",
    "expand_form_button = driver.find_elements_by_id(\"more-btn\")[0]\n",
    "expand_form_button.click()"
   ]
  },
  {
   "cell_type": "code",
   "execution_count": 2,
   "metadata": {},
   "outputs": [],
   "source": [
    "# <input type=\"text\" name=\"full_name\" id=\"full_name\"\n",
    "full_name_tbox = driver.wait.until(EC.presence_of_element_located((By.NAME, \"full_name\")))\n",
    "full_name_tbox.send_keys('Aaron Judge')"
   ]
  },
  {
   "cell_type": "code",
   "execution_count": 3,
   "metadata": {},
   "outputs": [],
   "source": [
    "#<button type=\"submit\" class=\"btn btn-success btn-lg\" id=\"button-search\" style=\"width: 75%\">Search</button>\n",
    "search_button = driver.find_element_by_id(\"button-search\")\n",
    "search_button.send_keys(Keys.ENTER)\n",
    "# wait for  <div class=\"alert alert-info col-md-8\"><h4>Search Results for...</h4>\n",
    "            \n",
    "time.sleep(20)"
   ]
  },
  {
   "cell_type": "code",
   "execution_count": 4,
   "metadata": {
    "scrolled": false
   },
   "outputs": [],
   "source": [
    "soup = BeautifulSoup(driver.page_source, \"html5lib\")\n"
   ]
  },
  {
   "cell_type": "code",
   "execution_count": 5,
   "metadata": {},
   "outputs": [
    {
     "name": "stdout",
     "output_type": "stream",
     "text": [
      "Aaron+Judge&amp;address=356+Cline+Taylor+Rd+Wagener%2C+SC+29164-9653\n"
     ]
    }
   ],
   "source": [
    "#for cols[7] thru cols[18] for a full page\n",
    "#on the first page cols[1] thru cols[6] are window dressing\n"
   ]
  },
  {
   "cell_type": "code",
   "execution_count": 14,
   "metadata": {},
   "outputs": [
    {
     "name": "stdout",
     "output_type": "stream",
     "text": [
      "[['14', 'Street', 'Addresses'], ['6', 'Phone', 'Numbers'], ['4', 'Email', 'Addresses'], ['44', 'Family', 'Members', '&', 'Associates']]\n",
      "Addresses=14  Phones=6  Emails=4\n",
      "Aaron+Judge&amp;address=412+Gablewood+Cir+Louisville%2C+KY+40245-4166\n",
      "Aaron+Judge&amp;address=149+Cliffway+Dr+Carlisle%2C+KY+40311-8825\n",
      "Aaron+Judge&amp;address=Upper+Lick+Rd+Moorefield%2C+KY+40350\n",
      "Aaron+Judge&amp;address=107+Lantern+Trl+Midway%2C+KY+40347-9030\n",
      "Aaron+Judge&amp;address=8010+E+29th+Ave+Denver%2C+CO+80238-2505\n",
      "Aaron+Judge&amp;address=4+Kilbreth+Ave+Durham%2C+NC+27713-7137\n",
      "Aaron+Judge&amp;address=1249+Telluride+Cir+Lexington%2C+KY+40509-2394\n",
      "Aaron+Judge&amp;address=412+Gablewood+Cir%2C+APT+200+Louisville%2C+KY+40245-4166\n",
      "Aaron+Judge&amp;address=7414+Steeplecrest+Cir%2C+APT+200+Louisville%2C+KY+40222-9080\n",
      "Aaron+Judge&amp;address=3806+Polo+Club+Blvd+Lexington%2C+KY+40509-8551\n",
      "Aaron+Judge&amp;address=3170+Mapleleaf+Dr%2C+APT+911+Lexington%2C+KY+40509-2630\n",
      "Aaron+Judge&amp;address=5701+S+Missori+Pc%2C+%23+1318+Austin%2C+TX+78749\n",
      "Aaron+Judge&amp;address=5701+S+Missori+Pc+1318+Austin%2C+TX+78749\n",
      "Aaron+Judge&amp;address=5701+S+Mo+Pac+Expy%2C+APT+1318+Austin%2C+TX+78749-1445\n",
      "(303) 953-0071\n",
      "(919) 794-4250\n",
      "(859) 289-5634\n",
      "(512) 289-5634\n",
      "(512) 899-9557\n",
      "289-5634\n",
      "harlescjudge@yahoo.com\n",
      "aronjudge@hotmail.com\n",
      "ajudg01@engr.uky.edu\n",
      "aronjudge@yahoo.com\n"
     ]
    }
   ],
   "source": [
    "cols = soup.findAll(\"div\",class_=\"col-md-4\")\n",
    "one_person = cols[8]\n",
    "tags = one_person.findAll('li')\n",
    "\n",
    "data_headers = one_person.findAll('span', class_='data_header')\n",
    "data_header_names = []\n",
    "for i in range(0, len(data_headers)):\n",
    "    data_header_names.append(data_headers[i].text.split())\n",
    "print (data_header_names) \n",
    "num_of_addresses = 0\n",
    "num_of_phones = 0\n",
    "num_of_emails = 0\n",
    "for i in range (0, len(data_header_names)):\n",
    "    if data_header_names[i][1] == 'Street':\n",
    "        num_of_addresses = int(data_header_names[i][0])\n",
    "    elif data_header_names[i][1] == 'Phone':\n",
    "        num_of_phones = int(data_header_names[i][0])\n",
    "    elif data_header_names[i][1] == 'Email':\n",
    "        num_of_emails = int(data_header_names[i][0])\n",
    "       \n",
    "print('Addresses=' + str(num_of_addresses) + '  Phones=' + str(num_of_phones) + '  Emails=' + str(num_of_emails))    \n",
    "\n",
    "for i in range(0, num_of_addresses):\n",
    "    addy_data = str(tags[i])\n",
    "    begin = addy_data.find('data-person=\"')+13\n",
    "    end = addy_data.find('\" data-person-address')\n",
    "    addy_data_1 = addy_data[begin:end]\n",
    "    print (addy_data_1)\n",
    "\n",
    "for j in range(num_of_addresses, num_of_addresses + num_of_phones):\n",
    "    phone_data = str(tags[j])\n",
    "    begin = phone_data.find('<b>Phone number: </b>') + 21\n",
    "    end = phone_data.find('<br/><b>Company:')\n",
    "    phone_data_1 = phone_data[begin:end]\n",
    "    print (phone_data_1)\n",
    "    \n",
    "for j in range(num_of_addresses + num_of_phones, num_of_addresses + num_of_phones + num_of_emails):\n",
    "    email_data = str(tags[j])\n",
    "    begin = email_data.find('<a href=\"mailto:') + 17\n",
    "    end = email_data.find('\">')\n",
    "    email_data_1 = email_data[begin:end]\n",
    "    print (email_data_1)"
   ]
  },
  {
   "cell_type": "code",
   "execution_count": null,
   "metadata": {},
   "outputs": [],
   "source": []
  }
 ],
 "metadata": {
  "kernelspec": {
   "display_name": "Python 3",
   "language": "python",
   "name": "python3"
  },
  "language_info": {
   "codemirror_mode": {
    "name": "ipython",
    "version": 3
   },
   "file_extension": ".py",
   "mimetype": "text/x-python",
   "name": "python",
   "nbconvert_exporter": "python",
   "pygments_lexer": "ipython3",
   "version": "3.6.2rc2"
  }
 },
 "nbformat": 4,
 "nbformat_minor": 2
}
