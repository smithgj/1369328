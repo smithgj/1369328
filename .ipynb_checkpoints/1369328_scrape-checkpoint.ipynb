{
 "cells": [
  {
   "cell_type": "code",
   "execution_count": 127,
   "metadata": {},
   "outputs": [],
   "source": [
    "import time\n",
    "from selenium import webdriver\n",
    "from selenium.webdriver.support.ui import WebDriverWait\n",
    "from selenium.webdriver.support import expected_conditions as EC\n",
    "from selenium.webdriver.common.by import By\n",
    "from selenium.webdriver.common.keys import Keys\n",
    "from bs4 import BeautifulSoup\n",
    "\n",
    "driver = webdriver.Chrome(\"C:/Users/Greg/PycharmProjects/1369328/chromedriver_win32/chromedriver.exe\")\n",
    "driver.wait = WebDriverWait(driver, 5)\n",
    "driver.get('http://www.findpeoplesearch.com/')\n",
    " # click Expand Form button\n",
    "# the [0] is there because find_elements_by_id returns a list\n",
    "expand_form_button = driver.find_elements_by_id(\"more-btn\")[0]\n",
    "expand_form_button.click()"
   ]
  },
  {
   "cell_type": "code",
   "execution_count": 128,
   "metadata": {},
   "outputs": [],
   "source": [
    "# <input type=\"text\" name=\"full_name\" id=\"full_name\"\n",
    "full_name_tbox = driver.wait.until(EC.presence_of_element_located((By.NAME, \"full_name\")))\n",
    "full_name_tbox.send_keys('Aaron Judge')"
   ]
  },
  {
   "cell_type": "code",
   "execution_count": 129,
   "metadata": {},
   "outputs": [],
   "source": [
    "#<button type=\"submit\" class=\"btn btn-success btn-lg\" id=\"button-search\" style=\"width: 75%\">Search</button>\n",
    "search_button = driver.find_element_by_id(\"button-search\")\n",
    "search_button.send_keys(Keys.ENTER)\n",
    "# wait for  <div class=\"alert alert-info col-md-8\"><h4>Search Results for...</h4>\n",
    "            \n",
    "time.sleep(20)"
   ]
  },
  {
   "cell_type": "code",
   "execution_count": 130,
   "metadata": {
    "scrolled": false
   },
   "outputs": [],
   "source": [
    "soup = BeautifulSoup(driver.page_source, \"html5lib\")\n"
   ]
  },
  {
   "cell_type": "code",
   "execution_count": 131,
   "metadata": {},
   "outputs": [
    {
     "name": "stdout",
     "output_type": "stream",
     "text": [
      "Aaron+Judge&amp;address=356+Cline+Taylor+Rd+Wagener%2C+SC+29164-9653\n"
     ]
    }
   ],
   "source": [
    "\n",
    "cols = soup.findAll(\"div\",class_=\"col-md-4\")\n",
    "one_person = cols[7]\n",
    "tag = one_person.find('div', class_='modal fade')\n",
    "#print(tag)\n",
    "all_data = str(tag)\n",
    "begin = all_data.find('data-person=\"')+13\n",
    "end = all_data.find('\" data-person-address')\n",
    "data_1 = all_data[begin:end]\n",
    "print (data_1)\n"
   ]
  },
  {
   "cell_type": "code",
   "execution_count": null,
   "metadata": {},
   "outputs": [
    {
     "name": "stdout",
     "output_type": "stream",
     "text": [
      "<class 'bs4.element.ResultSet'>\n",
      "Aaron+Judge&amp;address=412+Gablewood+Cir+Louisville%2C+KY+40245-4166\n",
      "<class 'bs4.element.ResultSet'>\n",
      "Aaron+Judge&amp;address=149+Cliffway+Dr+Carlisle%2C+KY+40311-8825\n",
      "<class 'bs4.element.ResultSet'>\n",
      "Aaron+Judge&amp;address=Upper+Lick+Rd+Moorefield%2C+KY+40350\n",
      "<class 'bs4.element.ResultSet'>\n",
      "Aaron+Judge&amp;address=107+Lantern+Trl+Midway%2C+KY+40347-9030\n",
      "<class 'bs4.element.ResultSet'>\n",
      "Aaron+Judge&amp;address=8010+E+29th+Ave+Denver%2C+CO+80238-2505\n",
      "<class 'bs4.element.ResultSet'>\n",
      "Aaron+Judge&amp;address=4+Kilbreth+Ave+Durham%2C+NC+27713-7137\n",
      "<class 'bs4.element.ResultSet'>\n",
      "Aaron+Judge&amp;address=1249+Telluride+Cir+Lexington%2C+KY+40509-2394\n",
      "<class 'bs4.element.ResultSet'>\n",
      "Aaron+Judge&amp;address=412+Gablewood+Cir%2C+APT+200+Louisville%2C+KY+40245-4166\n",
      "<class 'bs4.element.ResultSet'>\n",
      "Aaron+Judge&amp;address=7414+Steeplecrest+Cir%2C+APT+200+Louisville%2C+KY+40222-9080\n",
      "<class 'bs4.element.ResultSet'>\n",
      "Aaron+Judge&amp;address=3806+Polo+Club+Blvd+Lexington%2C+KY+40509-8551\n",
      "<class 'bs4.element.ResultSet'>\n",
      "Aaron+Judge&amp;address=3170+Mapleleaf+Dr%2C+APT+911+Lexington%2C+KY+40509-2630\n",
      "<class 'bs4.element.ResultSet'>\n",
      "Aaron+Judge&amp;address=5701+S+Missori+Pc%2C+%23+1318+Austin%2C+TX+78749\n",
      "<class 'bs4.element.ResultSet'>\n",
      "Aaron+Judge&amp;address=5701+S+Missori+Pc+1318+Austin%2C+TX+78749\n",
      "<class 'bs4.element.ResultSet'>\n",
      "Aaron+Judge&amp;address=5701+S+Mo+Pac+Expy%2C+APT+1318+Austin%2C+TX+78749-1445\n"
     ]
    }
   ],
   "source": [
    "cols = soup.findAll(\"div\",class_=\"col-md-4\")\n",
    "one_person = cols[8]\n",
    "addresses_txt = (one_person.find('span', class_='data_header')).text\n",
    "num_addresses_txt = (addresses_txt.split())[0]\n",
    "num_addresses = int(num_addresses_txt)\n",
    "for i in range(0, num_addresses):\n",
    "    print(type(tags))\n",
    "    all_data = str(tags[i])\n",
    "    begin = all_data.find('data-person=\"')+13\n",
    "    end = all_data.find('\" data-person-address')\n",
    "    data_1 = all_data[begin:end]\n",
    "    print (data_1)\n",
    "   \n",
    "#print(data)\n",
    "#data_list = (data.split())\n",
    "#for i in range(0, len(data_list)):\n",
    "#    print(data_list[i])"
   ]
  },
  {
   "cell_type": "code",
   "execution_count": null,
   "metadata": {},
   "outputs": [],
   "source": []
  }
 ],
 "metadata": {
  "kernelspec": {
   "display_name": "Python 3",
   "language": "python",
   "name": "python3"
  },
  "language_info": {
   "codemirror_mode": {
    "name": "ipython",
    "version": 3
   },
   "file_extension": ".py",
   "mimetype": "text/x-python",
   "name": "python",
   "nbconvert_exporter": "python",
   "pygments_lexer": "ipython3",
   "version": "3.6.2rc2"
  }
 },
 "nbformat": 4,
 "nbformat_minor": 2
}
